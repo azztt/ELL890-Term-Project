{
 "cells": [
  {
   "cell_type": "code",
   "execution_count": 17,
   "id": "2c265e16",
   "metadata": {},
   "outputs": [],
   "source": [
    "import pandas as pd\n",
    "import matplotlib.pyplot as plt\n",
    "from scipy import stats\n",
    "import glob\n",
    "import os"
   ]
  },
  {
   "cell_type": "code",
   "execution_count": 18,
   "id": "b07a1aec",
   "metadata": {},
   "outputs": [],
   "source": [
    "joined_files = os.path.join(\"./experiment_data/\", \"*.csv\")\n",
    "joined_list = glob.glob(joined_files)\n",
    "df = pd.concat(map(pd.read_csv, joined_list), ignore_index=True)"
   ]
  },
  {
   "cell_type": "code",
   "execution_count": 19,
   "metadata": {},
   "outputs": [],
   "source": [
    "# adding column if identified emotion is correct\n",
    "df['Correct'] = 0\n",
    "df.loc[df['True emotion'] == df['Response emotion'], 'Correct'] = 100"
   ]
  },
  {
   "cell_type": "code",
   "execution_count": 20,
   "id": "0ea356ad",
   "metadata": {},
   "outputs": [
    {
     "data": {
      "image/png": "[encoded data removed]",
      "text/plain": [
       "<Figure size 432x288 with 1 Axes>"
      ]
     },
     "metadata": {
      "needs_background": "light"
     },
     "output_type": "display_data"
    }
   ],
   "source": [
    "#==============================================\n",
    "# ACCURACY FOR AUDIO vs WITHOUT AUDIO\n",
    "# group by audio presence\n",
    "dfGrSub = df[['Audio', 'Subject Name', 'Correct']].groupby(['Audio', 'Subject Name']).mean()\n",
    "plotdf = pd.DataFrame({\n",
    "    'Without Audio': dfGrSub.loc[0]['Correct'], \n",
    "    'With Audio': dfGrSub.loc[1]['Correct']\n",
    "})\n",
    "# print(plotdf)\n",
    "# plot for mean for both cases with standard deviation\n",
    "fig1, ax1 = plt.subplots(1, 1)\n",
    "plotdf.mean().plot.bar(\n",
    "    ax=ax1, \n",
    "    yerr=plotdf.std(), \n",
    "    rot=0, \n",
    "    capsize=4, \n",
    "    legend=False, \n",
    "    xlabel='Audio status', \n",
    "    ylabel='Accuracy (%)', \n",
    "    title='Overall accuracy across subjects\\nwith audio and without audio'\n",
    ")\n",
    "ax1.grid()"
   ]
  },
  {
   "cell_type": "code",
   "execution_count": 36,
   "id": "fd3e4e2c",
   "metadata": {},
   "outputs": [
    {
     "name": "stdout",
     "output_type": "stream",
     "text": [
      "tru variance: 10.970587058982554, false variance: 12.38637459634681\n",
      "Homegeneity test on only audio category: LeveneResult(statistic=0.07035267613392555, pvalue=0.793088918289289)\n",
      "Normality test on only audio category: ShapiroResult(statistic=0.8874057531356812, pvalue=0.08990927040576935), ShapiroResult(statistic=0.7893745303153992, pvalue=0.005111332517117262)\n",
      "T-Test result on only audio category: Ttest_indResult(statistic=1.1582777689904034, pvalue=0.25831158103103)\n"
     ]
    }
   ],
   "source": [
    "adt = plotdf['With Audio']\n",
    "adf = plotdf['Without Audio']\n",
    "print(\"tru variance: {}, false variance: {}\".format(adt.std(), adf.std()))\n",
    "print(\"Homegeneity test on only audio category: {}\".format(stats.levene(adt, adf)))\n",
    "print(\"Normality test on only audio category: {}, {}\".format(stats.shapiro(adt), stats.shapiro(adf)))\n",
    "print(\"T-Test result on only audio category: {}\".format(stats.ttest_ind(adt, adf, equal_var=False)))"
   ]
  },
  {
   "cell_type": "code",
   "execution_count": 37,
   "id": "2de4db6c",
   "metadata": {},
   "outputs": [
    {
     "data": {
      "image/png": "[encoded data removed]",
      "text/plain": [
       "<Figure size 432x288 with 1 Axes>"
      ]
     },
     "metadata": {
      "needs_background": "light"
     },
     "output_type": "display_data"
    }
   ],
   "source": [
    "#==============================================\n",
    "# ACCURACY FOR DIFFERENT EMOTIONS FOR AUDIO vs WITHOUT AUDIO\n",
    "# group by each emotion, audio\n",
    "dfGrEm = df[['True emotion', 'Audio', 'Subject Name', 'Correct']].groupby(['True emotion', 'Audio', 'Subject Name']).mean()\n",
    "dfGrEm = dfGrEm.reset_index(['Audio', 'Subject Name'])\n",
    "af = dfGrEm[dfGrEm['Audio']==False]\n",
    "at = dfGrEm[dfGrEm['Audio']==True]\n",
    "plotdfE = pd.DataFrame({\n",
    "    'Without Audio': af['Correct'],\n",
    "    'With Audio': at['Correct']\n",
    "})\n",
    "plotdfGE = plotdfE.groupby(['True emotion'])\n",
    "# plot for mean for both cases for each emotion with standard deviation\n",
    "fig2, ax2 = plt.subplots(1, 1)\n",
    "plotdfGE.mean().plot.bar(\n",
    "    ax=ax2, \n",
    "    yerr=plotdfGE.std(), \n",
    "    rot=0, \n",
    "    capsize=4, \n",
    "    xlabel='Emotions', \n",
    "    ylabel='Accuracy (%)', \n",
    "    title='Accuracy for different emotions across subjects\\nwith audio and without audio'\n",
    ")\n",
    "ax2.grid()"
   ]
  },
  {
   "cell_type": "code",
   "execution_count": 38,
   "id": "9b58db66",
   "metadata": {},
   "outputs": [
    {
     "name": "stdout",
     "output_type": "stream",
     "text": [
      "angry:\n",
      "tru variance: 9.87096233585649, false variance: 6.602252917735248\n",
      "Homegeneity test: LeveneResult(statistic=1.5483870967741944, pvalue=0.22538935354452963)\n",
      "Normality test: ShapiroResult(statistic=0.8163204193115234, pvalue=0.010722882114350796), ShapiroResult(statistic=0.7092480063438416, pvalue=0.0006877121631987393)\n",
      "T-Test result: Ttest_indResult(statistic=-1.1677484162422869, pvalue=0.2560292184597811)\n",
      "\n"
     ]
    }
   ],
   "source": [
    "adt = plotdfGE['With Audio']\n",
    "adf = plotdfGE['Without Audio']\n",
    "# tests for angry\n",
    "angt = adt.get_group('angry')\n",
    "angf = adf.get_group('angry')\n",
    "print(\"angry:\")\n",
    "print(\"tru variance: {}, false variance: {}\".format(angt.std(), angf.std()))\n",
    "print(\"Homegeneity test: {}\".format(stats.levene(angt, angf)))\n",
    "print(\"Normality test: {}, {}\".format(stats.shapiro(angt), stats.shapiro(angf)))\n",
    "print(\"T-Test result: {}\".format(stats.ttest_ind(angt, angf, equal_var=False)))\n",
    "print(\"\")"
   ]
  },
  {
   "cell_type": "code",
   "execution_count": 39,
   "id": "c08393f0",
   "metadata": {},
   "outputs": [
    {
     "name": "stdout",
     "output_type": "stream",
     "text": [
      "calm:\n",
      "Homegeneity test: LeveneResult(statistic=0.0005223750652968892, pvalue=0.9819544841387401)\n",
      "Normality test: ShapiroResult(statistic=0.8316736221313477, pvalue=0.0166251789778471), ShapiroResult(statistic=0.8216946721076965, pvalue=0.012484882026910782)\n",
      "T-Test result: Ttest_indResult(statistic=0.7522671834066366, pvalue=0.4592054237050006)\n",
      "\n"
     ]
    }
   ],
   "source": [
    "# tests for calm\n",
    "angt = adt.get_group('calm')\n",
    "angf = adf.get_group('calm')\n",
    "print(\"calm:\")\n",
    "print(\"Homegeneity test: {}\".format(stats.levene(angt, angf)))\n",
    "print(\"Normality test: {}, {}\".format(stats.shapiro(angt), stats.shapiro(angf)))\n",
    "print(\"T-Test result: {}\".format(stats.ttest_ind(angt, angf)))\n",
    "print(\"\")"
   ]
  },
  {
   "cell_type": "code",
   "execution_count": 40,
   "id": "238dd6d2",
   "metadata": {},
   "outputs": [
    {
     "name": "stdout",
     "output_type": "stream",
     "text": [
      "disgust:\n",
      "Homegeneity test: LeveneResult(statistic=0.09789314398789438, pvalue=0.7570754100477727)\n",
      "Normality test: ShapiroResult(statistic=0.6322174072265625, pvalue=0.0001260282879229635), ShapiroResult(statistic=0.931649923324585, pvalue=0.35811832547187805)\n",
      "T-Test result: Ttest_indResult(statistic=1.1143420667632695, pvalue=0.27616788956425686)\n",
      "\n"
     ]
    }
   ],
   "source": [
    "# tests for disgust\n",
    "angt = adt.get_group('disgust')\n",
    "angf = adf.get_group('disgust')\n",
    "print(\"disgust:\")\n",
    "print(\"Homegeneity test: {}\".format(stats.levene(angt, angf)))\n",
    "print(\"Normality test: {}, {}\".format(stats.shapiro(angt), stats.shapiro(angf)))\n",
    "print(\"T-Test result: {}\".format(stats.ttest_ind(angt, angf)))\n",
    "print(\"\")"
   ]
  },
  {
   "cell_type": "code",
   "execution_count": 41,
   "id": "bcb1229e",
   "metadata": {},
   "outputs": [
    {
     "name": "stdout",
     "output_type": "stream",
     "text": [
      "fearful:\n",
      "Homegeneity test: LeveneResult(statistic=0.6242774566473989, pvalue=0.437199873903817)\n",
      "Normality test: ShapiroResult(statistic=0.913819432258606, pvalue=0.20679634809494019), ShapiroResult(statistic=0.817992091178894, pvalue=0.011240755207836628)\n",
      "T-Test result: Ttest_indResult(statistic=2.3597502097958545, pvalue=0.026759403132979715)\n",
      "\n"
     ]
    }
   ],
   "source": [
    "# tests for fearful\n",
    "angt = adt.get_group('fearful')\n",
    "angf = adf.get_group('fearful')\n",
    "print(\"fearful:\")\n",
    "print(\"Homegeneity test: {}\".format(stats.levene(angt, angf)))\n",
    "print(\"Normality test: {}, {}\".format(stats.shapiro(angt), stats.shapiro(angf)))\n",
    "print(\"T-Test result: {}\".format(stats.ttest_ind(angt, angf)))\n",
    "print(\"\")"
   ]
  },
  {
   "cell_type": "code",
   "execution_count": 42,
   "id": "75556353",
   "metadata": {},
   "outputs": [
    {
     "name": "stdout",
     "output_type": "stream",
     "text": [
      "happy:\n",
      "Homegeneity test: LeveneResult(statistic=0.03443328550932567, pvalue=0.854347549420424)\n",
      "Normality test: ShapiroResult(statistic=0.6850986480712891, pvalue=0.0003953012346755713), ShapiroResult(statistic=0.5773612856864929, pvalue=4.2031715565826744e-05)\n",
      "T-Test result: Ttest_indResult(statistic=0.6088875184204984, pvalue=0.5483196581485557)\n",
      "\n"
     ]
    }
   ],
   "source": [
    "# tests for happy\n",
    "angt = adt.get_group('happy')\n",
    "angf = adf.get_group('happy')\n",
    "print(\"happy:\")\n",
    "print(\"Homegeneity test: {}\".format(stats.levene(angt, angf)))\n",
    "print(\"Normality test: {}, {}\".format(stats.shapiro(angt), stats.shapiro(angf)))\n",
    "print(\"T-Test result: {}\".format(stats.ttest_ind(angt, angf)))\n",
    "print(\"\")"
   ]
  },
  {
   "cell_type": "code",
   "execution_count": 43,
   "id": "2c5fe178",
   "metadata": {},
   "outputs": [
    {
     "name": "stdout",
     "output_type": "stream",
     "text": [
      "neutral:\n",
      "Homegeneity test: LeveneResult(statistic=0.021404682274247487, pvalue=0.8849038466874011)\n",
      "Normality test: ShapiroResult(statistic=0.783696174621582, pvalue=0.0043923817574977875), ShapiroResult(statistic=0.8902366757392883, pvalue=0.09827741235494614)\n",
      "T-Test result: Ttest_indResult(statistic=0.1937356757655729, pvalue=0.8480132291127299)\n",
      "\n"
     ]
    }
   ],
   "source": [
    "# tests for neutral\n",
    "angt = adt.get_group('neutral')\n",
    "angf = adf.get_group('neutral')\n",
    "print(\"neutral:\")\n",
    "print(\"Homegeneity test: {}\".format(stats.levene(angt, angf)))\n",
    "print(\"Normality test: {}, {}\".format(stats.shapiro(angt), stats.shapiro(angf)))\n",
    "print(\"T-Test result: {}\".format(stats.ttest_ind(angt, angf)))\n",
    "print(\"\")"
   ]
  },
  {
   "cell_type": "code",
   "execution_count": 44,
   "id": "ebd968f2",
   "metadata": {},
   "outputs": [
    {
     "name": "stdout",
     "output_type": "stream",
     "text": [
      "sad:\n",
      "Homegeneity test: LeveneResult(statistic=0.7680000000000005, pvalue=0.389524015116711)\n",
      "Normality test: ShapiroResult(statistic=0.888379693031311, pvalue=0.09270250052213669), ShapiroResult(statistic=0.8848075270652771, pvalue=0.08287256956100464)\n",
      "T-Test result: Ttest_indResult(statistic=0.16705381391691232, pvalue=0.8687272673740206)\n",
      "\n"
     ]
    }
   ],
   "source": [
    "# tests for sad\n",
    "angt = adt.get_group('sad')\n",
    "angf = adf.get_group('sad')\n",
    "print(\"sad:\")\n",
    "print(\"Homegeneity test: {}\".format(stats.levene(angt, angf)))\n",
    "print(\"Normality test: {}, {}\".format(stats.shapiro(angt), stats.shapiro(angf)))\n",
    "print(\"T-Test result: {}\".format(stats.ttest_ind(angt, angf)))\n",
    "print(\"\")"
   ]
  },
  {
   "cell_type": "code",
   "execution_count": 45,
   "id": "c449471b",
   "metadata": {},
   "outputs": [
    {
     "name": "stdout",
     "output_type": "stream",
     "text": [
      "surprised:\n",
      "Homegeneity test: LeveneResult(statistic=0.23076923076923073, pvalue=0.6353038276176826)\n",
      "Normality test: ShapiroResult(statistic=0.8233336210250854, pvalue=0.013081619516015053), ShapiroResult(statistic=0.8971595168113708, pvalue=0.12225094437599182)\n",
      "T-Test result: Ttest_indResult(statistic=0.24386751657153205, pvalue=0.8094060316321462)\n",
      "\n"
     ]
    }
   ],
   "source": [
    "# tests for surprised\n",
    "angt = adt.get_group('surprised')\n",
    "angf = adf.get_group('surprised')\n",
    "print(\"surprised:\")\n",
    "print(\"Homegeneity test: {}\".format(stats.levene(angt, angf)))\n",
    "print(\"Normality test: {}, {}\".format(stats.shapiro(angt), stats.shapiro(angf)))\n",
    "print(\"T-Test result: {}\".format(stats.ttest_ind(angt, angf)))\n",
    "print(\"\")"
   ]
  },
  {
   "cell_type": "code",
   "execution_count": 46,
   "id": "d43c57aa",
   "metadata": {},
   "outputs": [
    {
     "data": {
      "image/png": "[encoded data removed]",
      "text/plain": [
       "<Figure size 432x288 with 1 Axes>"
      ]
     },
     "metadata": {
      "needs_background": "light"
     },
     "output_type": "display_data"
    }
   ],
   "source": [
    "#==============================================\n",
    "# ACCURACY FOR DIFFERENT SPEAKER GENDERS FOR AUDIO vs WITHOUT AUDIO\n",
    "# group by each speaker gender, audio\n",
    "dfGrSpG = df[['Speaker gender', 'Audio', 'Subject Name', 'Correct']].groupby(['Speaker gender', 'Audio', 'Subject Name']).mean()\n",
    "dfGrSpG = dfGrSpG.reset_index(['Audio', 'Subject Name'])\n",
    "af = dfGrSpG[dfGrSpG['Audio']==False]\n",
    "at = dfGrSpG[dfGrSpG['Audio']==True]\n",
    "plotdfSpG = pd.DataFrame({\n",
    "    'Without Audio': af['Correct'],\n",
    "    'With Audio': at['Correct']\n",
    "})\n",
    "plotdfSpG = plotdfSpG.groupby(['Speaker gender'])\n",
    "# plot for mean for both cases for each speaker gender with standard deviation\n",
    "fig3, ax3 = plt.subplots(1, 1)\n",
    "plotdfSpG.mean().plot.bar(\n",
    "    ax=ax3, \n",
    "    yerr=plotdfSpG.std(), \n",
    "    rot=0, \n",
    "    capsize=4, \n",
    "    xlabel='Speaker genders', \n",
    "    ylabel='Accuracy (%)', \n",
    "    title='Accuracy for different speaker genders across subjects\\nwith audio and without audio'\n",
    ")\n",
    "ax3.grid()"
   ]
  },
  {
   "cell_type": "code",
   "execution_count": 47,
   "id": "a8aeb9f3",
   "metadata": {},
   "outputs": [
    {
     "name": "stdout",
     "output_type": "stream",
     "text": [
      "Female:\n",
      "Homegeneity test: LeveneResult(statistic=0.008852722106751768, pvalue=0.9258196486404047)\n",
      "Normality test: ShapiroResult(statistic=0.9361256957054138, pvalue=0.4087277948856354), ShapiroResult(statistic=0.674393355846405, pvalue=0.0003113219572696835)\n",
      "T-Test result: Ttest_indResult(statistic=1.2022744945362969, pvalue=0.24098559528106372)\n",
      "\n"
     ]
    }
   ],
   "source": [
    "adt = plotdfSpG['With Audio']\n",
    "adf = plotdfSpG['Without Audio']\n",
    "# tests for speaker\n",
    "angt = adt.get_group('Female')\n",
    "angf = adf.get_group('Female')\n",
    "print(\"Female:\")\n",
    "print(\"Homegeneity test: {}\".format(stats.levene(angt, angf)))\n",
    "print(\"Normality test: {}, {}\".format(stats.shapiro(angt), stats.shapiro(angf)))\n",
    "print(\"T-Test result: {}\".format(stats.ttest_ind(angt, angf)))\n",
    "print(\"\")"
   ]
  },
  {
   "cell_type": "code",
   "execution_count": 48,
   "id": "bd39d5a8",
   "metadata": {},
   "outputs": [
    {
     "name": "stdout",
     "output_type": "stream",
     "text": [
      "Male:\n",
      "Homegeneity test: LeveneResult(statistic=0.09952809192795777, pvalue=0.7551236276613)\n",
      "Normality test: ShapiroResult(statistic=0.9625934958457947, pvalue=0.7931432127952576), ShapiroResult(statistic=0.9138349890708923, pvalue=0.20689721405506134)\n",
      "T-Test result: Ttest_indResult(statistic=0.7796430344867163, pvalue=0.4432219744725431)\n",
      "\n"
     ]
    }
   ],
   "source": [
    "adt = plotdfSpG['With Audio']\n",
    "adf = plotdfSpG['Without Audio']\n",
    "# tests for male speaker\n",
    "angt = adt.get_group('Male')\n",
    "angf = adf.get_group('Male')\n",
    "print(\"Male:\")\n",
    "print(\"Homegeneity test: {}\".format(stats.levene(angt, angf)))\n",
    "print(\"Normality test: {}, {}\".format(stats.shapiro(angt), stats.shapiro(angf)))\n",
    "print(\"T-Test result: {}\".format(stats.ttest_ind(angt, angf)))\n",
    "print(\"\")"
   ]
  },
  {
   "cell_type": "code",
   "execution_count": 34,
   "id": "c271c870",
   "metadata": {},
   "outputs": [
    {
     "data": {
      "image/png": "[encoded data removed]",
      "text/plain": [
       "<Figure size 432x288 with 1 Axes>"
      ]
     },
     "metadata": {
      "needs_background": "light"
     },
     "output_type": "display_data"
    }
   ],
   "source": [
    "#==============================================\n",
    "# ACCURACY FOR DIFFERENT SUBJECT GENDERS FOR AUDIO vs WITHOUT AUDIO\n",
    "# group by each subject gender, audio\n",
    "dfGrSbG = df[['Subject gender', 'Audio', 'Subject Name', 'Correct']].groupby(['Subject gender', 'Audio', 'Subject Name']).mean()\n",
    "dfGrSbG = dfGrSbG.reset_index(['Audio', 'Subject Name'])\n",
    "af = dfGrSbG[dfGrSbG['Audio']==False]\n",
    "at = dfGrSbG[dfGrSbG['Audio']==True]\n",
    "plotdfSbG = pd.DataFrame({\n",
    "    'Without Audio': af['Correct'],\n",
    "    'With Audio': at['Correct']\n",
    "})\n",
    "plotdfSbG = plotdfSbG.groupby(['Subject gender'])\n",
    "# plot for mean for both cases for each subject gender with standard deviation\n",
    "fig4, ax4 = plt.subplots(1, 1)\n",
    "plotdfSbG.mean().plot.bar(\n",
    "    ax=ax4, \n",
    "    yerr=plotdfSbG.std(), \n",
    "    rot=0, \n",
    "    capsize=4, \n",
    "    xlabel='Subject genders', \n",
    "    ylabel='Accuracy (%)', \n",
    "    title='Accuracy for different subject genders across subjects\\nwith audio and without audio'\n",
    ")\n",
    "ax4.grid()"
   ]
  },
  {
   "cell_type": "code",
   "execution_count": 35,
   "id": "a8aeb9f3",
   "metadata": {},
   "outputs": [
    {
     "name": "stdout",
     "output_type": "stream",
     "text": [
      "Female:\n",
      "Homegeneity test: LeveneResult(statistic=inf, pvalue=0.0)\n"
     ]
    },
    {
     "name": "stderr",
     "output_type": "stream",
     "text": [
      "C:\\D Drive\\Anaconda3\\lib\\site-packages\\scipy\\stats\\morestats.py:2603: RuntimeWarning: divide by zero encountered in double_scalars\n",
      "  W = numer / denom\n"
     ]
    },
    {
     "ename": "ValueError",
     "evalue": "Data must be at least length 3.",
     "output_type": "error",
     "traceback": [
      "\u001b[1;31m---------------------------------------------------------------------------\u001b[0m",
      "\u001b[1;31mValueError\u001b[0m                                Traceback (most recent call last)",
      "\u001b[1;32mC:\\Users\\ANWESH~1\\AppData\\Local\\Temp/ipykernel_22004/4212457728.py\u001b[0m in \u001b[0;36m<module>\u001b[1;34m\u001b[0m\n\u001b[0;32m      6\u001b[0m \u001b[0mprint\u001b[0m\u001b[1;33m(\u001b[0m\u001b[1;34m\"Female:\"\u001b[0m\u001b[1;33m)\u001b[0m\u001b[1;33m\u001b[0m\u001b[1;33m\u001b[0m\u001b[0m\n\u001b[0;32m      7\u001b[0m \u001b[0mprint\u001b[0m\u001b[1;33m(\u001b[0m\u001b[1;34m\"Homegeneity test: {}\"\u001b[0m\u001b[1;33m.\u001b[0m\u001b[0mformat\u001b[0m\u001b[1;33m(\u001b[0m\u001b[0mstats\u001b[0m\u001b[1;33m.\u001b[0m\u001b[0mlevene\u001b[0m\u001b[1;33m(\u001b[0m\u001b[0mangt\u001b[0m\u001b[1;33m,\u001b[0m \u001b[0mangf\u001b[0m\u001b[1;33m)\u001b[0m\u001b[1;33m)\u001b[0m\u001b[1;33m)\u001b[0m\u001b[1;33m\u001b[0m\u001b[1;33m\u001b[0m\u001b[0m\n\u001b[1;32m----> 8\u001b[1;33m \u001b[0mprint\u001b[0m\u001b[1;33m(\u001b[0m\u001b[1;34m\"Normality test: {}, {}\"\u001b[0m\u001b[1;33m.\u001b[0m\u001b[0mformat\u001b[0m\u001b[1;33m(\u001b[0m\u001b[0mstats\u001b[0m\u001b[1;33m.\u001b[0m\u001b[0mshapiro\u001b[0m\u001b[1;33m(\u001b[0m\u001b[0mangt\u001b[0m\u001b[1;33m)\u001b[0m\u001b[1;33m,\u001b[0m \u001b[0mstats\u001b[0m\u001b[1;33m.\u001b[0m\u001b[0mshapiro\u001b[0m\u001b[1;33m(\u001b[0m\u001b[0mangf\u001b[0m\u001b[1;33m)\u001b[0m\u001b[1;33m)\u001b[0m\u001b[1;33m)\u001b[0m\u001b[1;33m\u001b[0m\u001b[1;33m\u001b[0m\u001b[0m\n\u001b[0m\u001b[0;32m      9\u001b[0m \u001b[0mprint\u001b[0m\u001b[1;33m(\u001b[0m\u001b[1;34m\"T-Test result: {}\"\u001b[0m\u001b[1;33m.\u001b[0m\u001b[0mformat\u001b[0m\u001b[1;33m(\u001b[0m\u001b[0mstats\u001b[0m\u001b[1;33m.\u001b[0m\u001b[0mttest_ind\u001b[0m\u001b[1;33m(\u001b[0m\u001b[0mangt\u001b[0m\u001b[1;33m,\u001b[0m \u001b[0mangf\u001b[0m\u001b[1;33m)\u001b[0m\u001b[1;33m)\u001b[0m\u001b[1;33m)\u001b[0m\u001b[1;33m\u001b[0m\u001b[1;33m\u001b[0m\u001b[0m\n\u001b[0;32m     10\u001b[0m \u001b[0mprint\u001b[0m\u001b[1;33m(\u001b[0m\u001b[1;34m\"\"\u001b[0m\u001b[1;33m)\u001b[0m\u001b[1;33m\u001b[0m\u001b[1;33m\u001b[0m\u001b[0m\n",
      "\u001b[1;32mC:\\D Drive\\Anaconda3\\lib\\site-packages\\scipy\\stats\\morestats.py\u001b[0m in \u001b[0;36mshapiro\u001b[1;34m(x)\u001b[0m\n\u001b[0;32m   1747\u001b[0m     \u001b[0mN\u001b[0m \u001b[1;33m=\u001b[0m \u001b[0mlen\u001b[0m\u001b[1;33m(\u001b[0m\u001b[0mx\u001b[0m\u001b[1;33m)\u001b[0m\u001b[1;33m\u001b[0m\u001b[1;33m\u001b[0m\u001b[0m\n\u001b[0;32m   1748\u001b[0m     \u001b[1;32mif\u001b[0m \u001b[0mN\u001b[0m \u001b[1;33m<\u001b[0m \u001b[1;36m3\u001b[0m\u001b[1;33m:\u001b[0m\u001b[1;33m\u001b[0m\u001b[1;33m\u001b[0m\u001b[0m\n\u001b[1;32m-> 1749\u001b[1;33m         \u001b[1;32mraise\u001b[0m \u001b[0mValueError\u001b[0m\u001b[1;33m(\u001b[0m\u001b[1;34m\"Data must be at least length 3.\"\u001b[0m\u001b[1;33m)\u001b[0m\u001b[1;33m\u001b[0m\u001b[1;33m\u001b[0m\u001b[0m\n\u001b[0m\u001b[0;32m   1750\u001b[0m \u001b[1;33m\u001b[0m\u001b[0m\n\u001b[0;32m   1751\u001b[0m     \u001b[0ma\u001b[0m \u001b[1;33m=\u001b[0m \u001b[0mzeros\u001b[0m\u001b[1;33m(\u001b[0m\u001b[0mN\u001b[0m\u001b[1;33m,\u001b[0m \u001b[1;34m'f'\u001b[0m\u001b[1;33m)\u001b[0m\u001b[1;33m\u001b[0m\u001b[1;33m\u001b[0m\u001b[0m\n",
      "\u001b[1;31mValueError\u001b[0m: Data must be at least length 3."
     ]
    }
   ],
   "source": [
    "adt = plotdfSbG['With Audio']\n",
    "adf = plotdfSbG['Without Audio']\n",
    "# tests for female subject\n",
    "angt = adt.get_group('Female')\n",
    "angf = adf.get_group('Female')\n",
    "print(\"Female:\")\n",
    "print(\"Homegeneity test: {}\".format(stats.levene(angt, angf)))\n",
    "print(\"Normality test: {}, {}\".format(stats.shapiro(angt), stats.shapiro(angf)))\n",
    "print(\"T-Test result: {}\".format(stats.ttest_ind(angt, angf)))\n",
    "print(\"\")"
   ]
  },
  {
   "cell_type": "code",
   "execution_count": null,
   "id": "bd39d5a8",
   "metadata": {},
   "outputs": [],
   "source": [
    "adt = plotdfSbG['With Audio']\n",
    "adf = plotdfSbG['Without Audio']\n",
    "# tests for male subject\n",
    "angt = adt.get_group('Male')\n",
    "angf = adf.get_group('Male')\n",
    "print(\"Male:\")\n",
    "print(\"Homegeneity test: {}\".format(stats.levene(angt, angf)))\n",
    "print(\"Normality test: {}, {}\".format(stats.shapiro(angt), stats.shapiro(angf)))\n",
    "print(\"T-Test result: {}\".format(stats.ttest_ind(angt, angf)))\n",
    "print(\"\")"
   ]
  },
  {
   "cell_type": "code",
   "execution_count": null,
   "id": "b096d5e7",
   "metadata": {},
   "outputs": [],
   "source": []
  }
 ],
 "metadata": {
  "kernelspec": {
   "display_name": "Python 3 (ipykernel)",
   "language": "python",
   "name": "python3"
  },
  "language_info": {
   "codemirror_mode": {
    "name": "ipython",
    "version": 3
   },
   "file_extension": ".py",
   "mimetype": "text/x-python",
   "name": "python",
   "nbconvert_exporter": "python",
   "pygments_lexer": "ipython3",
   "version": "3.9.7"
  }
 },
 "nbformat": 4,
 "nbformat_minor": 5
}
